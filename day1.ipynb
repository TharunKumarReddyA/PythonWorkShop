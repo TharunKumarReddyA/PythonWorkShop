{
 "cells": [
  {
   "cell_type": "code",
   "execution_count": null,
   "metadata": {},
   "outputs": [],
   "source": [
    "# MarkDown Doucmentation\n",
    "# Headings\n",
    "# Profile\n",
    "<img src=\"dhoni.jpg\" height=500px width=500>\n",
    "\n",
    "#### Email\n",
    " \n",
    "[myemail](https://www.gmail.com)\n",
    "\n",
    "**Tharun**\n",
    "\n",
    "## Techincal Skills\n",
    "\n",
    "* PythonProgramming\n",
    "* DjangoFramework\n",
    "* Flask\n",
    "\n",
    "### Personal Information\n",
    "\n",
    "1. Address\n",
    "    *Ongole\n",
    "   \n",
    "2. District\n",
    "    *Prakasam\n",
    "    \n",
    "300. Pincode\n",
    "      *523001\n",
    "\n",
    "400. Country\n",
    "      *India\n",
    "      \n",
    "\n",
    "\n",
    "\n",
    "#### Summary\n",
    "\n",
    "My Name is **Tharun Kumar Reddy** \n",
    "*Ongole* my [email](https://www.gmail.com)\n",
    "& ***My Profile*** <img src=\"dhoni.jpg\" height=500px width=500>\n",
    "\n",
    "\n",
    "# Backtick\n",
    " markdown\n",
    "\n",
    "# BlockQuotes\n",
    "\n",
    "> welcome\n",
    "\n",
    "> how r u\n"
   ]
  },
  {
   "cell_type": "markdown",
   "metadata": {},
   "source": [
    "* what is python\n",
    "* featues of python\n",
    "* history of python\n",
    "* keywords in python\n",
    "* operators in python\n",
    "* variable in python"
   ]
  },
  {
   "cell_type": "code",
   "execution_count": null,
   "metadata": {},
   "outputs": [],
   "source": [
    "# in python we have 5 different keys\n",
    " + highlevel programming language                     \n",
    " + Objectoriented programming language\n",
    " + Interperted\n",
    " + Dynamic programming language\n",
    " + Multipurpose proghramming language\n",
    " "
   ]
  },
  {
   "cell_type": "code",
   "execution_count": null,
   "metadata": {},
   "outputs": [],
   "source": [
    " # Features of python\n",
    " + simple and easy to learn\n",
    " + open source\n",
    " + platform independent\n",
    " + cross platform\n",
    " + portable  and sclable\n"
   ]
  },
  {
   "cell_type": "code",
   "execution_count": null,
   "metadata": {},
   "outputs": [],
   "source": [
    "# History of python\n",
    " + in 1990's started implementations of python\n",
    " + in 1991 released 0.9.0 version\n",
    " + in 1994 released 1.0 version with features of ananyos \n",
    "   functions like map,filter reduce ..etc\n",
    " + in 2000 again republished 2.0 version with features of data structure like list,sets,tuple,dictirony..etc\n",
    " + in 2008 again republished 3.0 with features of garbage collection and fastly\n",
    " "
   ]
  },
  {
   "cell_type": "code",
   "execution_count": null,
   "metadata": {},
   "outputs": [],
   "source": [
    " # Variable Decleration\n",
    " * Can use underscore(_)\n",
    " * Should not use underscore and can use any special character\n",
    " * Should not use keywards as Variables"
   ]
  },
  {
   "cell_type": "code",
   "execution_count": null,
   "metadata": {},
   "outputs": [],
   "source": [
    " # operators in python\n",
    " 1. Arathematic\n",
    " * +,-,*,/,//,**,%\n",
    "    \n",
    " 2. Assignment\n",
    " *  =,+=,-=,*=,/=,//=,**=,%=\n",
    "    \n",
    " 3. Conditional\n",
    " *  <,>,<=,>=,!=,==\n",
    "    \n",
    " 4. Logical\n",
    " *  &,|,^\n",
    "    \n",
    " 5. Membership\n",
    " *  in,not in\n",
    "    \n",
    " 6. Relational\n",
    " *    >>,<< \n",
    "    \n",
    " 7. Identity\n",
    " *  is, is not\n",
    "    \n",
    " 8. Bitwise\n",
    " *  &,|,^\n",
    "  "
   ]
  },
  {
   "cell_type": "code",
   "execution_count": null,
   "metadata": {},
   "outputs": [],
   "source": [
    "a=10\n",
    "b=10.00\n",
    "c='python'\n",
    "d=True\n",
    "\n",
    "print(type(a))\n",
    "print(type(b))\n",
    "print(type(c))\n",
    "print(type(d))\n"
   ]
  },
  {
   "cell_type": "code",
   "execution_count": null,
   "metadata": {},
   "outputs": [],
   "source": [
    "import keyword\n",
    "print(keyword.kwlist)\n",
    "['False', 'None', 'True', 'and', 'as', 'assert', 'async', 'await', 'break', 'class', 'continue', 'def', 'del', 'elif', 'else', 'except', 'finally', 'for', 'from', 'global', 'if', 'import', 'in', 'is', 'lambda', 'nonlocal', 'not', 'or', 'pass', 'raise', 'return', 'try', 'while', 'with', 'yield']\n",
    "\n"
   ]
  },
  {
   "cell_type": "code",
   "execution_count": null,
   "metadata": {},
   "outputs": [],
   "source": [
    "a = int(input('enter a value'))\n",
    "b = int(input('enter b value'))\n",
    "\n",
    "print('addition of',a,'+',b,'=',a+b)\n",
    "print('substract of %d -m %d = %d'%(a,b,a-b))\n",
    "print('mul of () * () = ()',format(a,b,a*b))"
   ]
  },
  {
   "cell_type": "code",
   "execution_count": null,
   "metadata": {},
   "outputs": [],
   "source": [
    "# Relational and comparision\n",
    "\n",
    "print('greaterthan-->',10>5)\n",
    "print('lessthan-->',100,50)\n",
    "print('gretherthan ot equalate',200>=100)\n",
    "print(\"lessthan or equalate\",200<=100)\n",
    "print('not equalate',200!=100)\n",
    "print('equlate',100==100)\n"
   ]
  },
  {
   "cell_type": "markdown",
   "metadata": {},
   "source": [
    "# Assinment\n",
    "\n",
    "\n",
    "+=,-=,*=,**+,//="
   ]
  },
  {
   "cell_type": "code",
   "execution_count": null,
   "metadata": {},
   "outputs": [],
   "source": [
    "a=10\n",
    "a+=90\n",
    "a-=50\n",
    "a*=2\n",
    "print('final result is',a)\n"
   ]
  },
  {
   "cell_type": "markdown",
   "metadata": {},
   "source": [
    "# Logical operator\n",
    "\n",
    "* and,or,not"
   ]
  },
  {
   "cell_type": "code",
   "execution_count": null,
   "metadata": {},
   "outputs": [],
   "source": [
    "# and\n",
    "print(False or False)\n",
    "print(False or True)\n",
    "print(True or False)\n",
    "print(True or true)\n",
    "print(True and True)#(0,0------0,1---1,0---1,1)"
   ]
  },
  {
   "cell_type": "code",
   "execution_count": null,
   "metadata": {},
   "outputs": [],
   "source": [
    "# or\n",
    "print(False or False)\n",
    "print(False or True)\n",
    "print(True or False)\n",
    "print(True or True)\n",
    "print(True and True)#(0,0------0,1---1,0---1,1)"
   ]
  },
  {
   "cell_type": "code",
   "execution_count": null,
   "metadata": {},
   "outputs": [],
   "source": [
    "# nor with and\n",
    "print(not(False or False))\n",
    "print(not(False or True))\n",
    "print(not(True or False))\n",
    "print(not(True or True))\n",
    "print(not(True and True))#(0,0------0,1---1,0---1,1)"
   ]
  },
  {
   "cell_type": "code",
   "execution_count": null,
   "metadata": {},
   "outputs": [],
   "source": [
    "# not with or\n",
    "print(not(False or False))\n",
    "print(not(False or True))\n",
    "print(not(True or False))\n",
    "print(not(True or True))\n",
    "print(not(True and True))#(0,0------0,1---1,0---1,1)"
   ]
  },
  {
   "cell_type": "code",
   "execution_count": null,
   "metadata": {},
   "outputs": [],
   "source": [
    "# not\n",
    "print(not True)\n",
    "print(not False)\n"
   ]
  },
  {
   "cell_type": "markdown",
   "metadata": {},
   "source": [
    "membership\n",
    "\n",
    "* in,notin"
   ]
  },
  {
   "cell_type": "code",
   "execution_count": null,
   "metadata": {},
   "outputs": [],
   "source": [
    "s=\"welcome to pythonworkshop\"\n",
    " #print('to' in s)\n",
    " #print('too' in s)\n",
    "\n",
    "print ('c' not in s)"
   ]
  },
  {
   "cell_type": "code",
   "execution_count": null,
   "metadata": {},
   "outputs": [],
   "source": []
  },
  {
   "cell_type": "code",
   "execution_count": null,
   "metadata": {},
   "outputs": [],
   "source": [
    "# bitwisenoperator\n",
    "+ &,^,|"
   ]
  },
  {
   "cell_type": "code",
   "execution_count": null,
   "metadata": {},
   "outputs": [],
   "source": [
    "2&2\n",
    "5|10\n",
    "int('1111',2)\n",
    "bin(2)\n",
    "int('001',2)\n",
    "\n",
    "# Acii values convert\n",
    "ord('A')\n",
    "char(67)\n"
   ]
  },
  {
   "cell_type": "markdown",
   "metadata": {},
   "source": [
    "#Take 5 inputs from user\n",
    "\n",
    "operation the values\n",
    "\n",
    "print result"
   ]
  },
  {
   "cell_type": "markdown",
   "metadata": {},
   "source": [
    "# Conditional Satements\n",
    "\n",
    "+ if,elif,else\n",
    "\n",
    "### Condition syntex\n",
    "\n",
    "if condition:\n",
    "   statement\n",
    "elif condition:\n",
    "   statements\n",
    "else\n",
    "   statements\n",
    "   "
   ]
  },
  {
   "cell_type": "code",
   "execution_count": null,
   "metadata": {},
   "outputs": [],
   "source": [
    "# Even number \n",
    "\n",
    "n=int(input(\"Enter the number:-\"))\n",
    "if n%2==0:\n",
    "    print(n, 'is an even number')\n",
    "else:\n",
    "    print(n, 'not even number')"
   ]
  },
  {
   "cell_type": "code",
   "execution_count": null,
   "metadata": {},
   "outputs": [],
   "source": [
    "# odd number\n",
    "\n",
    "n=int(input('Enter the valur:-'))\n",
    "if n%2!=0: # n%2==1\n",
    "    print(n, 'not odd number')\n",
    "else:\n",
    "    print(n, 'not odd number')\n",
    "    "
   ]
  },
  {
   "cell_type": "markdown",
   "metadata": {},
   "source": [
    "# Take the input from user\n",
    "\n",
    "1 to 7"
   ]
  },
  {
   "cell_type": "code",
   "execution_count": null,
   "metadata": {},
   "outputs": [],
   "source": [
    "day=int(input('Enter Day Value'))\n",
    "\n",
    "if day==1:\n",
    "    print(day,'is sunday')\n",
    "elif day==2:\n",
    "    print(day,'is monday')\n",
    "elif day==3:\n",
    "    print(day,'is tuesday')\n",
    "elif day==4:\n",
    "    print(day,'is wednesday')\n",
    "elif day==5:\n",
    "    print(day,'is thursday')  \n",
    "elif day==6:\n",
    "    print(day,'is friday') \n",
    "elif day==7:\n",
    "    print(day,'is saturday') \n",
    "else :\n",
    "    print('invalid value')"
   ]
  },
  {
   "cell_type": "markdown",
   "metadata": {},
   "source": [
    "# Based on time take impot from user\n",
    "\n",
    " "
   ]
  },
  {
   "cell_type": "code",
   "execution_count": null,
   "metadata": {},
   "outputs": [],
   "source": [
    "time=float(input('Enter time'))\n",
    "if time>=0.0 and time<=12.00:\n",
    "    print(time,'GoodMorning')\n",
    "elif time>=13.00 and time<=17.00:\n",
    "    print(time,'GoodAfternoon')\n",
    "elif time>=18.00 and time<=21.00:\n",
    "    print(time,'GoodAEvening')\n",
    "elif time>=22.00 and time<=24.00:\n",
    "    print(time,'GoodAfternoon')\n",
    "else:\n",
    "    print('Invalid Time')"
   ]
  },
  {
   "cell_type": "code",
   "execution_count": 5,
   "metadata": {},
   "outputs": [
    {
     "name": "stdout",
     "output_type": "stream",
     "text": [
      "Enterbusername-->tharun\n",
      "Enter password-->········\n",
      "welcome tharun\n"
     ]
    }
   ],
   "source": [
    "from getpass import getpass\n",
    "username = input(\"Enterbusername-->\")\n",
    "password = getpass(\"Enter password-->\")\n",
    "if username == 'tharun'and password == '12345':\n",
    "    print('welcome',username)\n",
    "else:\n",
    "    print(\"invalid username\")"
   ]
  },
  {
   "cell_type": "code",
   "execution_count": null,
   "metadata": {},
   "outputs": [],
   "source": []
  },
  {
   "cell_type": "code",
   "execution_count": 4,
   "metadata": {},
   "outputs": [
    {
     "name": "stdout",
     "output_type": "stream",
     "text": [
      "3\n",
      "0\n"
     ]
    }
   ],
   "source": [
    "n = int(input())\n",
    "s=0\n",
    "for i in range(n+1):\n",
    "    s+1#s = s+i\n",
    "#print(i,ends,end= '')\n",
    "print(s)"
   ]
  },
  {
   "cell_type": "code",
   "execution_count": 6,
   "metadata": {},
   "outputs": [
    {
     "name": "stdout",
     "output_type": "stream",
     "text": [
      "1\n",
      "10\n",
      "11\n",
      "12\n",
      "13\n",
      "14\n",
      "15\n",
      "16\n",
      "17\n",
      "18\n",
      "19\n"
     ]
    }
   ],
   "source": [
    "n = int(input())\n",
    "for i in range(10,20):\n",
    "    print(i)"
   ]
  },
  {
   "cell_type": "code",
   "execution_count": 30,
   "metadata": {},
   "outputs": [
    {
     "name": "stdout",
     "output_type": "stream",
     "text": [
      "100-->100\n",
      "90-->190\n",
      "80-->270\n",
      "70-->340\n",
      "60-->400\n",
      "50-->450\n",
      "40-->490\n",
      "30-->520\n",
      "20-->540\n"
     ]
    }
   ],
   "source": [
    "s=0\n",
    "for i in range(100,10,-10):\n",
    "    s+=i #s=s+i\n",
    "    print(i,end=\"-->\")\n",
    "    print(s)"
   ]
  },
  {
   "cell_type": "code",
   "execution_count": 32,
   "metadata": {},
   "outputs": [
    {
     "name": "stdout",
     "output_type": "stream",
     "text": [
      "enter intial value1\n",
      "enter intial value2\n",
      "1,1\n",
      "2,3\n"
     ]
    }
   ],
   "source": [
    "a=int(input('enter intial value'))\n",
    "b=int(input('enter intial value'))\n",
    "\n",
    "s=0\n",
    "\n",
    "for i in range(a,b+1):\n",
    "    s+=i\n",
    "    print(i, end=\",\")\n",
    "    print(s)"
   ]
  },
  {
   "cell_type": "code",
   "execution_count": 28,
   "metadata": {},
   "outputs": [
    {
     "name": "stdout",
     "output_type": "stream",
     "text": [
      "100  90  80  70  60  50  40  30  20  "
     ]
    }
   ],
   "source": [
    "for i in range(100,10,-10):\n",
    "    print(i,end=\"  \")\n",
    "    "
   ]
  },
  {
   "cell_type": "code",
   "execution_count": 33,
   "metadata": {},
   "outputs": [
    {
     "name": "stdout",
     "output_type": "stream",
     "text": [
      "enter table  value19\n",
      "enter upto value10\n",
      "19 * 1 = 19\n",
      "19 * 2 = 38\n",
      "19 * 3 = 57\n",
      "19 * 4 = 76\n",
      "19 * 5 = 95\n",
      "19 * 6 = 114\n",
      "19 * 7 = 133\n",
      "19 * 8 = 152\n",
      "19 * 9 = 171\n",
      "19 * 10 = 190\n"
     ]
    }
   ],
   "source": [
    "a=int(input('enter table  value'))\n",
    "b=int(input('enter upto value'))\n",
    "for i in range(1,b+1):\n",
    "    print('{} * {} = {}'.format(a,i,a*i))"
   ]
  },
  {
   "cell_type": "code",
   "execution_count": 36,
   "metadata": {},
   "outputs": [
    {
     "name": "stdout",
     "output_type": "stream",
     "text": [
      "enter table value2\n",
      "enter upto value10\n",
      "2 * 1 = 2\n",
      "2 * 2 = 4\n",
      "2 * 3 = 6\n",
      "2 * 4 = 8\n",
      "2 * 5 = 10\n",
      "2 * 6 = 12\n",
      "2 * 7 = 14\n",
      "2 * 8 = 16\n",
      "2 * 9 = 18\n",
      "2 * 10 = 20\n"
     ]
    }
   ],
   "source": [
    "a=int(input('enter table value'))\n",
    "b=int(input('enter upto value'))\n",
    "for i in range(1,b+1):\n",
    "  print('{} * {} = {}'.format(a,i,a*i))"
   ]
  },
  {
   "cell_type": "markdown",
   "metadata": {},
   "source": [
    "### While\n",
    "       while condition\n",
    "    statement\n",
    "    change the value"
   ]
  },
  {
   "cell_type": "code",
   "execution_count": 8,
   "metadata": {},
   "outputs": [
    {
     "name": "stdout",
     "output_type": "stream",
     "text": [
      "10\n",
      "9\n",
      "8\n",
      "7\n",
      "6\n",
      "5\n",
      "4\n",
      "3\n",
      "2\n",
      "1\n"
     ]
    }
   ],
   "source": [
    "i = 10\n",
    "while i>=1:\n",
    "    print(i)\n",
    "    i-=1"
   ]
  },
  {
   "cell_type": "code",
   "execution_count": 2,
   "metadata": {},
   "outputs": [
    {
     "name": "stdout",
     "output_type": "stream",
     "text": [
      "4\n",
      "4\n",
      "6\n",
      "8\n",
      "10\n",
      "12\n",
      "14\n",
      "16\n",
      "18\n"
     ]
    }
   ],
   "source": [
    "n = int(input( ))\n",
    "while(n<20):\n",
    "    if n%2==0:\n",
    "        print(n)\n",
    "    n+=1"
   ]
  },
  {
   "cell_type": "code",
   "execution_count": null,
   "metadata": {},
   "outputs": [],
   "source": []
  },
  {
   "cell_type": "code",
   "execution_count": 2,
   "metadata": {},
   "outputs": [
    {
     "name": "stdout",
     "output_type": "stream",
     "text": [
      "h\n",
      "e\n",
      "l\n",
      "l\n",
      "o\n"
     ]
    }
   ],
   "source": [
    "s = 'hello'\n",
    "for i in s:\n",
    "    if i == 'i':\n",
    "        break\n",
    "    print(i)"
   ]
  },
  {
   "cell_type": "code",
   "execution_count": 5,
   "metadata": {},
   "outputs": [
    {
     "name": "stdout",
     "output_type": "stream",
     "text": [
      "h\n",
      "e\n",
      "o\n"
     ]
    }
   ],
   "source": [
    "s = 'hello'\n",
    "for i in s:\n",
    "    if i == 'l':\n",
    "        continue\n",
    "    print(i)"
   ]
  },
  {
   "cell_type": "markdown",
   "metadata": {},
   "source": [
    "# Functions\n",
    "\n",
    "* Reducing duplication of code\n",
    "* Decomposing complex problems into simpler pieces\n",
    "* Improving clarity of the code\n",
    "* Reuse of code\n",
    "* Information hiding\n",
    "\n",
    "\n",
    "\n",
    "\n"
   ]
  },
  {
   "cell_type": "code",
   "execution_count": null,
   "metadata": {},
   "outputs": [],
   "source": []
  },
  {
   "cell_type": "code",
   "execution_count": null,
   "metadata": {},
   "outputs": [],
   "source": []
  },
  {
   "cell_type": "code",
   "execution_count": null,
   "metadata": {},
   "outputs": [],
   "source": []
  }
 ],
 "metadata": {
  "kernelspec": {
   "display_name": "Python 3",
   "language": "python",
   "name": "python3"
  },
  "language_info": {
   "codemirror_mode": {
    "name": "ipython",
    "version": 3
   },
   "file_extension": ".py",
   "mimetype": "text/x-python",
   "name": "python",
   "nbconvert_exporter": "python",
   "pygments_lexer": "ipython3",
   "version": "3.8.7rc1"
  }
 },
 "nbformat": 4,
 "nbformat_minor": 4
}
